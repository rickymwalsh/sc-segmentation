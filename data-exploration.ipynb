{
 "cells": [
  {
   "cell_type": "code",
   "execution_count": null,
   "metadata": {
    "ExecuteTime": {
     "end_time": "2021-10-22T09:30:03.653729Z",
     "start_time": "2021-10-22T09:30:03.637910Z"
    }
   },
   "outputs": [],
   "source": [
    "import os\n",
    "import nibabel as nib\n",
    "from nibabel.affines import apply_affine\n",
    "import numpy.linalg as npl\n",
    "import matplotlib.pyplot as plt\n",
    "plt.style.use('seaborn')\n",
    "\n",
    "import numpy as np\n",
    "np.set_printoptions(precision=3, suppress=True)"
   ]
  },
  {
   "cell_type": "markdown",
   "metadata": {},
   "source": [
    "#### Transformations Between Spaces"
   ]
  },
  {
   "cell_type": "code",
   "execution_count": null,
   "metadata": {
    "ExecuteTime": {
     "end_time": "2021-10-22T09:30:24.519322Z",
     "start_time": "2021-10-22T09:30:24.051113Z"
    }
   },
   "outputs": [],
   "source": [
    "t2s_img = nib.load(\"Data/SCSeg/20/SC/t2sMerge.nii.gz\")\n",
    "t2s_img_data = t2s_img.get_fdata()\n",
    "print(t2s_img_data.shape)\n",
    "\n",
    "t2_img = nib.load(\"Data/SCSeg/20/SC/t2.nii.gz\")\n",
    "t2_img_data = t2_img.get_fdata()\n",
    "print(t2_img_data.shape)"
   ]
  },
  {
   "cell_type": "code",
   "execution_count": null,
   "metadata": {
    "ExecuteTime": {
     "end_time": "2021-10-22T09:30:41.189734Z",
     "start_time": "2021-10-22T09:30:40.798913Z"
    }
   },
   "outputs": [],
   "source": [
    "def show_slices(slices):\n",
    "   \"\"\" Function to display row of image slices \"\"\"\n",
    "   fig, axes = plt.subplots(1, len(slices))\n",
    "   for i, slice in enumerate(slices):\n",
    "       axes[i].imshow(slice.T, cmap=\"gray\", origin=\"lower\")\n",
    "        \n",
    "slice_0 = t2s_img_data[263, :, :]\n",
    "slice_1 = t2s_img_data[:, 269, :]\n",
    "slice_2 = t2s_img_data[:, :, 21]\n",
    "show_slices([slice_0, slice_1, slice_2])\n",
    "plt.suptitle(\"Center slices for T2* image\")  \n",
    "\n",
    "slice_0 = t2_img_data[32, :, :]\n",
    "slice_1 = t2_img_data[:, 32, :]\n",
    "slice_2 = t2_img_data[:, :, 7]\n",
    "show_slices([slice_0, slice_1, slice_2])\n",
    "plt.suptitle(\"Center slices for T2 image\")  "
   ]
  },
  {
   "cell_type": "code",
   "execution_count": null,
   "metadata": {
    "ExecuteTime": {
     "end_time": "2021-10-22T09:30:48.844797Z",
     "start_time": "2021-10-22T09:30:48.819658Z"
    }
   },
   "outputs": [],
   "source": [
    "print(t2s_img.header)"
   ]
  },
  {
   "cell_type": "code",
   "execution_count": null,
   "metadata": {
    "ExecuteTime": {
     "end_time": "2021-10-22T09:31:06.293539Z",
     "start_time": "2021-10-22T09:31:06.278366Z"
    }
   },
   "outputs": [],
   "source": [
    "# Print the affine\n",
    "print(t2s_img.affine)\n",
    "print(t2_img.affine)"
   ]
  },
  {
   "cell_type": "code",
   "execution_count": null,
   "metadata": {
    "ExecuteTime": {
     "end_time": "2021-10-22T09:31:10.528174Z",
     "start_time": "2021-10-22T09:31:10.505348Z"
    }
   },
   "outputs": [],
   "source": [
    "t2_vox2t2s_vox = npl.inv(t2s_img.affine).dot(t2_img.affine)\n",
    "t2_vox2t2s_vox.shape"
   ]
  },
  {
   "cell_type": "markdown",
   "metadata": {},
   "source": [
    "#### Summarising Data"
   ]
  },
  {
   "cell_type": "code",
   "execution_count": null,
   "metadata": {
    "ExecuteTime": {
     "end_time": "2021-10-22T09:32:45.823059Z",
     "start_time": "2021-10-22T09:31:32.080312Z"
    }
   },
   "outputs": [],
   "source": [
    "root_dir = \"Data/SCSeg/\"\n",
    "data_shapes = {}\n",
    "\n",
    "print('Lesion Voxel Counts', '-'*20)\n",
    "for root, dir, files in os.walk(root_dir):\n",
    "    if len(files)>0:\n",
    "        data_shapes[root] = {}\n",
    "        print('Subject', root[11:13])\n",
    "        for file in files:\n",
    "            img = nib.load(root + '/' + file)\n",
    "            img_data = img.get_fdata()\n",
    "            data_shapes[root][file] = img_data.shape\n",
    "\n",
    "            if file=='labelLesion.nii.gz':\n",
    "                unique_vals, counts = np.unique(img_data.ravel(), return_counts=True)\n",
    "                print(np.asarray((unique_vals, counts, np.round(100*counts/sum(counts), 6))).T)"
   ]
  },
  {
   "cell_type": "code",
   "execution_count": null,
   "metadata": {
    "ExecuteTime": {
     "end_time": "2021-10-22T09:32:46.568427Z",
     "start_time": "2021-10-22T09:32:46.529644Z"
    }
   },
   "outputs": [],
   "source": [
    "data_shapes"
   ]
  },
  {
   "cell_type": "code",
   "execution_count": null,
   "metadata": {
    "ExecuteTime": {
     "end_time": "2021-10-22T09:35:14.932074Z",
     "start_time": "2021-10-22T09:35:14.917373Z"
    }
   },
   "outputs": [],
   "source": [
    "for subj in data_shapes:\n",
    "    if data_shapes[subj]['t2.nii.gz'] != (384, 384, 15):\n",
    "        print(subj, data_shapes[subj]['t2.nii.gz'])\n",
    "    "
   ]
  },
  {
   "cell_type": "code",
   "execution_count": null,
   "metadata": {
    "ExecuteTime": {
     "end_time": "2021-10-20T11:30:28.140955Z",
     "start_time": "2021-10-20T11:30:27.196999Z"
    }
   },
   "outputs": [],
   "source": [
    "plt.hist(img_data.ravel()) # (Just the last subject for now - T2*)"
   ]
  }
 ],
 "metadata": {
  "kernelspec": {
   "display_name": "Python 3",
   "language": "python",
   "name": "python3"
  },
  "language_info": {
   "codemirror_mode": {
    "name": "ipython",
    "version": 3
   },
   "file_extension": ".py",
   "mimetype": "text/x-python",
   "name": "python",
   "nbconvert_exporter": "python",
   "pygments_lexer": "ipython3",
   "version": "3.8.10"
  },
  "varInspector": {
   "cols": {
    "lenName": 16,
    "lenType": 16,
    "lenVar": 40
   },
   "kernels_config": {
    "python": {
     "delete_cmd_postfix": "",
     "delete_cmd_prefix": "del ",
     "library": "var_list.py",
     "varRefreshCmd": "print(var_dic_list())"
    },
    "r": {
     "delete_cmd_postfix": ") ",
     "delete_cmd_prefix": "rm(",
     "library": "var_list.r",
     "varRefreshCmd": "cat(var_dic_list()) "
    }
   },
   "types_to_exclude": [
    "module",
    "function",
    "builtin_function_or_method",
    "instance",
    "_Feature"
   ],
   "window_display": false
  }
 },
 "nbformat": 4,
 "nbformat_minor": 4
}
